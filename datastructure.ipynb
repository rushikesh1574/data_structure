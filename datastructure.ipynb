{
 "cells": [
  {
   "cell_type": "code",
   "execution_count": null,
   "metadata": {
    "colab": {
     "base_uri": "https://localhost:8080/"
    },
    "executionInfo": {
     "elapsed": 487,
     "status": "ok",
     "timestamp": 1724420416393,
     "user": {
      "displayName": "Rushikesh Jampangire",
      "userId": "17184048046058516355"
     },
     "user_tz": -330
    },
    "id": "K79YvsixXFMq",
    "outputId": "4bc47a7e-3629-4736-8c9e-2e10c801db16"
   },
   "outputs": [
    {
     "name": "stdout",
     "output_type": "stream",
     "text": [
      "gnirts\n"
     ]
    }
   ],
   "source": [
    "\n",
    "\n",
    "string = \"string\"\n",
    "reversed_string = \"\"\n",
    "for i in range(len(string)-1, -1, -1):\n",
    "  reversed_string += string[i]\n",
    "print(reversed_string)"
   ]
  },
  {
   "cell_type": "markdown",
   "metadata": {
    "id": "Q1XIvBcJhE69"
   },
   "source": []
  },
  {
   "cell_type": "code",
   "execution_count": null,
   "metadata": {
    "colab": {
     "base_uri": "https://localhost:8080/"
    },
    "executionInfo": {
     "elapsed": 3812,
     "status": "ok",
     "timestamp": 1724420462868,
     "user": {
      "displayName": "Rushikesh Jampangire",
      "userId": "17184048046058516355"
     },
     "user_tz": -330
    },
    "id": "zA0dxWCtZTcd",
    "outputId": "7f9aead0-c48e-4417-f4ca-40ab21997586"
   },
   "outputs": [
    {
     "name": "stdout",
     "output_type": "stream",
     "text": [
      "Enter the first string: \n",
      "Enter the second string: \n",
      "The strings are anagrams of each other.\n"
     ]
    }
   ],
   "source": [
    "\n",
    "\n",
    "string1 = \"abcdef\"\n",
    "string2 = \"fedcba\"\n",
    "\n",
    "if len(string1) != len(string2):\n",
    "  print (\"Not anagrams\")\n",
    "\n",
    "reversed_string = \"\"\n",
    "\n",
    "for i in range(len(string2)-1, -1, -1):\n",
    "  reversed_string += string2[i]\n",
    "\n",
    "if reversed_string == string1:\n",
    "  print(\"Anagrams\")\n",
    "else:\n",
    "  print(\"Not anagrams\")"
   ]
  },
  {
   "cell_type": "code",
   "execution_count": null,
   "metadata": {
    "colab": {
     "base_uri": "https://localhost:8080/"
    },
    "executionInfo": {
     "elapsed": 11,
     "status": "ok",
     "timestamp": 1724420462868,
     "user": {
      "displayName": "Rushikesh Jampangire",
      "userId": "17184048046058516355"
     },
     "user_tz": -330
    },
    "id": "11buTp_cZaDF",
    "outputId": "cda910fa-776d-4841-d414-90e8cb1a42ff"
   },
   "outputs": [
    {
     "name": "stdout",
     "output_type": "stream",
     "text": [
      "The substring is occurs 2 times in the string.\n"
     ]
    }
   ],
   "source": [
    "\n",
    "string = \"This is a string with a substring.\"\n",
    "substring = \"is\"\n",
    "\n",
    "count = 0\n",
    "start = 0\n",
    "while True:\n",
    "  start = string.find(substring, start)\n",
    "  if start == -1:\n",
    "    break\n",
    "  count += 1\n",
    "  start += len(substring)\n",
    "\n",
    "print(\"The substring\", substring, \"occurs\", count, \"times in the string.\")\n"
   ]
  },
  {
   "cell_type": "code",
   "execution_count": null,
   "metadata": {
    "colab": {
     "base_uri": "https://localhost:8080/"
    },
    "executionInfo": {
     "elapsed": 10,
     "status": "ok",
     "timestamp": 1724420462868,
     "user": {
      "displayName": "Rushikesh Jampangire",
      "userId": "17184048046058516355"
     },
     "user_tz": -330
    },
    "id": "mifXAertZhbx",
    "outputId": "7a489e7e-02ea-44ce-b8a5-14d4f9a541d3"
   },
   "outputs": [
    {
     "name": "stdout",
     "output_type": "stream",
     "text": [
      "a3b2c2a2\n"
     ]
    }
   ],
   "source": [
    "\n",
    "\n",
    "string = \"aaabbccaa\"\n",
    "compressed_string = \"\"\n",
    "count = 1\n",
    "for i in range(len(string)):\n",
    "  if i == len(string) - 1 or string[i] != string[i + 1]:\n",
    "    compressed_string += string[i] + str(count)\n",
    "    count = 1\n",
    "  else:\n",
    "    count += 1\n",
    "print(compressed_string)\n",
    "\n"
   ]
  },
  {
   "cell_type": "code",
   "execution_count": null,
   "metadata": {
    "colab": {
     "base_uri": "https://localhost:8080/"
    },
    "executionInfo": {
     "elapsed": 1674,
     "status": "ok",
     "timestamp": 1724420464534,
     "user": {
      "displayName": "Rushikesh Jampangire",
      "userId": "17184048046058516355"
     },
     "user_tz": -330
    },
    "id": "DYJAHdPeZmp4",
    "outputId": "2a71ff08-0d8a-47df-b153-67aa1b0c14ed"
   },
   "outputs": [
    {
     "name": "stdout",
     "output_type": "stream",
     "text": [
      "Enter a string: \n",
      "The string has all unique characters.\n"
     ]
    }
   ],
   "source": [
    "\n",
    "string = input(\"Enter a string: \")\n",
    "\n",
    "char_set = set()\n",
    "is_unique = True\n",
    "\n",
    "for char in string:\n",
    "  if char in char_set:\n",
    "    is_unique = False\n",
    "    break\n",
    "  else:\n",
    "    char_set.add(char)\n",
    "\n",
    "if is_unique:\n",
    "  print(\"The string has all unique characters.\")\n",
    "else:\n",
    "  print(\"The string does not have all unique characters.\")\n"
   ]
  },
  {
   "cell_type": "code",
   "execution_count": null,
   "metadata": {
    "colab": {
     "base_uri": "https://localhost:8080/"
    },
    "executionInfo": {
     "elapsed": 24,
     "status": "ok",
     "timestamp": 1724420464535,
     "user": {
      "displayName": "Rushikesh Jampangire",
      "userId": "17184048046058516355"
     },
     "user_tz": -330
    },
    "id": "FQPtNc8cZsag",
    "outputId": "73619d27-1354-421f-d2a0-259ac67ccbba"
   },
   "outputs": [
    {
     "name": "stdout",
     "output_type": "stream",
     "text": [
      "HELLO WORLD\n",
      "hello world\n"
     ]
    }
   ],
   "source": [
    "\n",
    "\n",
    "string = \"hello world\"\n",
    "uppercase_string = \"\"\n",
    "for char in string:\n",
    "  if ord(char) >= 97 and ord(char) <= 122:\n",
    "    uppercase_string += chr(ord(char) - 32)\n",
    "  else:\n",
    "    uppercase_string += char\n",
    "print(uppercase_string)\n",
    "\n",
    "# Convert to lowercase\n",
    "string = \"HELLO WORLD\"\n",
    "lowercase_string = \"\"\n",
    "for char in string:\n",
    "  if ord(char) >= 65 and ord(char) <= 90:\n",
    "    lowercase_string += chr(ord(char) + 32)\n",
    "  else:\n",
    "    lowercase_string += char\n",
    "print(lowercase_string)\n"
   ]
  },
  {
   "cell_type": "code",
   "execution_count": null,
   "metadata": {
    "colab": {
     "base_uri": "https://localhost:8080/"
    },
    "executionInfo": {
     "elapsed": 22,
     "status": "ok",
     "timestamp": 1724420464535,
     "user": {
      "displayName": "Rushikesh Jampangire",
      "userId": "17184048046058516355"
     },
     "user_tz": -330
    },
    "id": "OmkaKHKkZwva",
    "outputId": "2e6ef7ef-311d-4b75-a65b-965b03219dc4"
   },
   "outputs": [
    {
     "name": "stdout",
     "output_type": "stream",
     "text": [
      "The number of words in the string is: 7\n"
     ]
    }
   ],
   "source": [
    "\n",
    "string = \"This is a string with multiple words.\"\n",
    "count = 1\n",
    "for i in range(len(string)):\n",
    "  if string[i] == \" \":\n",
    "    count += 1\n",
    "print(\"The number of words in the string is:\", count)\n"
   ]
  },
  {
   "cell_type": "code",
   "execution_count": null,
   "metadata": {
    "colab": {
     "base_uri": "https://localhost:8080/"
    },
    "executionInfo": {
     "elapsed": 18,
     "status": "ok",
     "timestamp": 1724420464535,
     "user": {
      "displayName": "Rushikesh Jampangire",
      "userId": "17184048046058516355"
     },
     "user_tz": -330
    },
    "id": "9A6mW5OvZ1nb",
    "outputId": "5d486402-70e6-4d3f-e0c0-8e6c3957045a"
   },
   "outputs": [
    {
     "name": "stdout",
     "output_type": "stream",
     "text": [
      "Hello World\n"
     ]
    }
   ],
   "source": [
    "\n",
    "string1 = \"Hello\"\n",
    "string2 = \" World\"\n",
    "\n",
    "for i in string2:\n",
    "  string1 += i\n",
    "\n",
    "print(string1)\n"
   ]
  },
  {
   "cell_type": "code",
   "execution_count": null,
   "metadata": {
    "colab": {
     "base_uri": "https://localhost:8080/"
    },
    "executionInfo": {
     "elapsed": 16,
     "status": "ok",
     "timestamp": 1724420464535,
     "user": {
      "displayName": "Rushikesh Jampangire",
      "userId": "17184048046058516355"
     },
     "user_tz": -330
    },
    "id": "iQRWk8HQZ6Jb",
    "outputId": "320bbfef-a7eb-46a5-cb46-455053fc398f"
   },
   "outputs": [
    {
     "name": "stdout",
     "output_type": "stream",
     "text": [
      "[1, 3, 4]\n"
     ]
    }
   ],
   "source": [
    "\n",
    "my_list = [1, 2, 3, 2, 4, 2]\n",
    "element_to_remove = 2\n",
    "new_list = []\n",
    "\n",
    "for item in my_list:\n",
    "  if item != element_to_remove:\n",
    "    new_list.append(item)\n",
    "\n",
    "print(new_list)\n"
   ]
  },
  {
   "cell_type": "code",
   "execution_count": null,
   "metadata": {
    "colab": {
     "base_uri": "https://localhost:8080/"
    },
    "executionInfo": {
     "elapsed": 14,
     "status": "ok",
     "timestamp": 1724420464535,
     "user": {
      "displayName": "Rushikesh Jampangire",
      "userId": "17184048046058516355"
     },
     "user_tz": -330
    },
    "id": "7RAQWgx3aGR0",
    "outputId": "966ae834-d443-47ee-f9de-15aa40523aa4"
   },
   "outputs": [
    {
     "name": "stdout",
     "output_type": "stream",
     "text": [
      "The second largest number is: 76\n"
     ]
    }
   ],
   "source": [
    "\n",
    "my_list = [12, 54, 76, 34, 89, 23]\n",
    "\n",
    "if len(my_list) < 2:\n",
    "  print(\"List must have at least two numbers\")\n",
    "else:\n",
    "  largest = my_list[0]\n",
    "  second_largest = my_list[1]\n",
    "\n",
    "  if second_largest > largest:\n",
    "    largest, second_largest = second_largest, largest\n",
    "\n",
    "  for i in range(2, len(my_list)):\n",
    "    if my_list[i] > largest:\n",
    "      second_largest = largest\n",
    "      largest = my_list[i]\n",
    "    elif my_list[i] > second_largest and my_list[i] != largest:\n",
    "      second_largest = my_list[i]\n",
    "\n",
    "  print(\"The second largest number is:\", second_largest)\n"
   ]
  },
  {
   "cell_type": "code",
   "execution_count": null,
   "metadata": {
    "colab": {
     "base_uri": "https://localhost:8080/"
    },
    "executionInfo": {
     "elapsed": 12,
     "status": "ok",
     "timestamp": 1724420464535,
     "user": {
      "displayName": "Rushikesh Jampangire",
      "userId": "17184048046058516355"
     },
     "user_tz": -330
    },
    "id": "xyjfdQSNaJ8E",
    "outputId": "7ed180a8-2486-4778-ddcf-6ac26d210c60"
   },
   "outputs": [
    {
     "name": "stdout",
     "output_type": "stream",
     "text": [
      "{1: 1, 2: 2, 3: 1, 4: 2, 5: 1}\n"
     ]
    }
   ],
   "source": [
    "\n",
    "\n",
    "my_list = [1, 2, 2, 3, 4, 4, 5]\n",
    "\n",
    "count_dict = {}\n",
    "for element in my_list:\n",
    "  if element in count_dict:\n",
    "    count_dict[element] += 1\n",
    "  else:\n",
    "    count_dict[element] = 1\n",
    "\n",
    "print(count_dict)\n"
   ]
  },
  {
   "cell_type": "code",
   "execution_count": null,
   "metadata": {
    "colab": {
     "base_uri": "https://localhost:8080/"
    },
    "executionInfo": {
     "elapsed": 11,
     "status": "ok",
     "timestamp": 1724420464535,
     "user": {
      "displayName": "Rushikesh Jampangire",
      "userId": "17184048046058516355"
     },
     "user_tz": -330
    },
    "id": "y45iDKgUaUC_",
    "outputId": "858ad2f9-7436-42b8-81f6-835efc485925"
   },
   "outputs": [
    {
     "name": "stdout",
     "output_type": "stream",
     "text": [
      "[5, 4, 3, 2, 1]\n"
     ]
    }
   ],
   "source": [
    "\n",
    "\n",
    "my_list = [1, 2, 3, 4, 5]\n",
    "left = 0\n",
    "right = len(my_list) - 1\n",
    "\n",
    "while left < right:\n",
    "  my_list[left], my_list[right] = my_list[right], my_list[left]\n",
    "  left += 1\n",
    "  right -= 1\n",
    "\n",
    "print(my_list)\n"
   ]
  },
  {
   "cell_type": "code",
   "execution_count": null,
   "metadata": {
    "colab": {
     "base_uri": "https://localhost:8080/"
    },
    "executionInfo": {
     "elapsed": 10,
     "status": "ok",
     "timestamp": 1724420464535,
     "user": {
      "displayName": "Rushikesh Jampangire",
      "userId": "17184048046058516355"
     },
     "user_tz": -330
    },
    "id": "NU6BF9uKadg-",
    "outputId": "561b3c23-6b1d-4467-f997-5e9e4a90adab"
   },
   "outputs": [
    {
     "name": "stdout",
     "output_type": "stream",
     "text": [
      "[1, 2, 3, 4, 5]\n"
     ]
    }
   ],
   "source": [
    "\n",
    "\n",
    "my_list = [1, 2, 2, 3, 4, 4, 5]\n",
    "new_list = []\n",
    "seen = set()\n",
    "\n",
    "for item in my_list:\n",
    "  if item not in seen:\n",
    "    new_list.append(item)\n",
    "    seen.add(item)\n",
    "\n",
    "print(new_list)\n"
   ]
  },
  {
   "cell_type": "code",
   "execution_count": null,
   "metadata": {
    "colab": {
     "base_uri": "https://localhost:8080/"
    },
    "executionInfo": {
     "elapsed": 8,
     "status": "ok",
     "timestamp": 1724420464535,
     "user": {
      "displayName": "Rushikesh Jampangire",
      "userId": "17184048046058516355"
     },
     "user_tz": -330
    },
    "id": "83SzHqbPagx_",
    "outputId": "641cf61a-42f8-43dd-e5ac-92585d23ad58"
   },
   "outputs": [
    {
     "name": "stdout",
     "output_type": "stream",
     "text": [
      "The list is sorted in ascending order.\n"
     ]
    }
   ],
   "source": [
    "\n",
    "my_list = [1, 2, 3, 4, 5]\n",
    "\n",
    "ascending = True\n",
    "descending = True\n",
    "\n",
    "for i in range(len(my_list) - 1):\n",
    "  if my_list[i] > my_list[i + 1]:\n",
    "    ascending = False\n",
    "  if my_list[i] < my_list[i + 1]:\n",
    "    descending = False\n",
    "\n",
    "if ascending:\n",
    "  print(\"The list is sorted in ascending order.\")\n",
    "elif descending:\n",
    "  print(\"The list is sorted in descending order.\")\n",
    "else:\n",
    "  print(\"The list is not sorted.\")\n"
   ]
  },
  {
   "cell_type": "code",
   "execution_count": null,
   "metadata": {
    "colab": {
     "base_uri": "https://localhost:8080/"
    },
    "executionInfo": {
     "elapsed": 7,
     "status": "ok",
     "timestamp": 1724420464535,
     "user": {
      "displayName": "Rushikesh Jampangire",
      "userId": "17184048046058516355"
     },
     "user_tz": -330
    },
    "id": "4611ZGUOakpv",
    "outputId": "8c7316f9-d31a-44da-81af-90fb27a98535"
   },
   "outputs": [
    {
     "name": "stdout",
     "output_type": "stream",
     "text": [
      "[1, 2, 3, 4, 5, 6, 7, 8]\n"
     ]
    }
   ],
   "source": [
    "\n",
    "\n",
    "list1 = [1, 3, 5, 7]\n",
    "list2 = [2, 4, 6, 8]\n",
    "\n",
    "merged_list = []\n",
    "i = 0\n",
    "j = 0\n",
    "\n",
    "while i < len(list1) and j < len(list2):\n",
    "  if list1[i] <= list2[j]:\n",
    "    merged_list.append(list1[i])\n",
    "    i += 1\n",
    "  else:\n",
    "    merged_list.append(list2[j])\n",
    "    j += 1\n",
    "\n",
    "while i < len(list1):\n",
    "  merged_list.append(list1[i])\n",
    "  i += 1\n",
    "\n",
    "while j < len(list2):\n",
    "  merged_list.append(list2[j])\n",
    "  j += 1\n",
    "\n",
    "print(merged_list)\n"
   ]
  },
  {
   "cell_type": "code",
   "execution_count": null,
   "metadata": {
    "colab": {
     "base_uri": "https://localhost:8080/"
    },
    "executionInfo": {
     "elapsed": 6,
     "status": "ok",
     "timestamp": 1724420464535,
     "user": {
      "displayName": "Rushikesh Jampangire",
      "userId": "17184048046058516355"
     },
     "user_tz": -330
    },
    "id": "XNGXw1KwaqhA",
    "outputId": "3477029c-04e1-410e-82e4-e04841271b2e"
   },
   "outputs": [
    {
     "name": "stdout",
     "output_type": "stream",
     "text": [
      "[4, 5]\n"
     ]
    }
   ],
   "source": [
    "\n",
    "list1 = [1, 2, 3, 4, 5]\n",
    "list2 = [4, 5, 6, 7, 8]\n",
    "\n",
    "intersection = []\n",
    "for element in list1:\n",
    "  if element in list2 and element not in intersection:\n",
    "    intersection.append(element)\n",
    "\n",
    "print(intersection)\n"
   ]
  },
  {
   "cell_type": "code",
   "execution_count": null,
   "metadata": {
    "colab": {
     "base_uri": "https://localhost:8080/"
    },
    "executionInfo": {
     "elapsed": 5,
     "status": "ok",
     "timestamp": 1724420464535,
     "user": {
      "displayName": "Rushikesh Jampangire",
      "userId": "17184048046058516355"
     },
     "user_tz": -330
    },
    "id": "ACHOzTWTayZK",
    "outputId": "e4b1534f-1c56-45f6-eb4c-f7504bcc6ad4"
   },
   "outputs": [
    {
     "name": "stdout",
     "output_type": "stream",
     "text": [
      "[1, 2, 3, 4, 5, 6, 7, 8]\n"
     ]
    }
   ],
   "source": [
    "\n",
    "list1 = [1, 2, 3, 4, 5]\n",
    "list2 = [4, 5, 6, 7, 8]\n",
    "\n",
    "union = []\n",
    "for element in list1:\n",
    "  if element not in union:\n",
    "    union.append(element)\n",
    "\n",
    "for element in list2:\n",
    "  if element not in union:\n",
    "    union.append(element)\n",
    "\n",
    "print(union)\n"
   ]
  },
  {
   "cell_type": "code",
   "execution_count": null,
   "metadata": {
    "colab": {
     "base_uri": "https://localhost:8080/"
    },
    "executionInfo": {
     "elapsed": 4,
     "status": "ok",
     "timestamp": 1724420465174,
     "user": {
      "displayName": "Rushikesh Jampangire",
      "userId": "17184048046058516355"
     },
     "user_tz": -330
    },
    "id": "HQjqB-62a4-_",
    "outputId": "de653b9e-6379-4543-a330-7516630e5411"
   },
   "outputs": [
    {
     "name": "stdout",
     "output_type": "stream",
     "text": [
      "[1, 4, 3, 2, 5]\n"
     ]
    }
   ],
   "source": [
    "\n",
    "\n",
    "import random\n",
    "\n",
    "my_list = [1, 2, 3, 4, 5]\n",
    "n = len(my_list)\n",
    "\n",
    "for i in range(n - 1, 0, -1):\n",
    "  j = random.randint(0, i)\n",
    "  my_list[i], my_list[j] = my_list[j], my_list[i]\n",
    "\n",
    "print(my_list)\n"
   ]
  },
  {
   "cell_type": "code",
   "execution_count": null,
   "metadata": {
    "colab": {
     "base_uri": "https://localhost:8080/"
    },
    "executionInfo": {
     "elapsed": 3,
     "status": "ok",
     "timestamp": 1724420465175,
     "user": {
      "displayName": "Rushikesh Jampangire",
      "userId": "17184048046058516355"
     },
     "user_tz": -330
    },
    "id": "3tCIbmSoa98I",
    "outputId": "00545368-428e-4d25-dc33-5628d3bc6427"
   },
   "outputs": [
    {
     "name": "stdout",
     "output_type": "stream",
     "text": [
      "Common elements: (4, 5)\n"
     ]
    }
   ],
   "source": [
    "\n",
    "\n",
    "tuple1 = (1, 2, 3, 4, 5)\n",
    "tuple2 = (4, 5, 6, 7, 8)\n",
    "\n",
    "common_elements = ()\n",
    "for element in tuple1:\n",
    "  if element in tuple2 and element not in common_elements:\n",
    "    common_elements = common_elements + (element,)\n",
    "\n",
    "print(\"Common elements:\", common_elements)\n"
   ]
  },
  {
   "cell_type": "code",
   "execution_count": null,
   "metadata": {
    "id": "kuIbrDcNbFEg"
   },
   "outputs": [],
   "source": [
    "\n",
    "\n",
    "set1_str = input(\"Enter the first set of integers separated by commas: \")\n",
    "set2_str = input(\"Enter the second set of integers separated by commas: \")\n",
    "\n",
    "set1 = set(int(x) for x in set1_str.split(\",\"))\n",
    "set2 = set(int(x) for x in set2_str.split(\",\"))\n",
    "\n",
    "intersection = set()\n",
    "for element in set1:\n",
    "  if element in set2:\n",
    "    intersection.add(element)\n",
    "\n",
    "print(\"Intersection:\", intersection)\n"
   ]
  },
  {
   "cell_type": "code",
   "execution_count": null,
   "metadata": {
    "id": "VRb-yxVUbLAq"
   },
   "outputs": [],
   "source": [
    "\n",
    "\n",
    "tuple1 = (1, 2, 3)\n",
    "tuple2 = (4, 5, 6)\n",
    "\n",
    "concatenated_tuple = tuple1 + tuple2\n",
    "print(concatenated_tuple)\n"
   ]
  },
  {
   "cell_type": "code",
   "execution_count": null,
   "metadata": {
    "id": "qb80OHD7bRfz"
   },
   "outputs": [],
   "source": [
    "\n",
    "\n",
    "# Prompt the user to enter the first set of strings\n",
    "set1_input = input(\"Enter the first set of strings separated by commas: \")\n",
    "\n",
    "# Prompt the user to enter the second set of strings\n",
    "set2_input = input(\"Enter the second set of strings separated by commas: \")\n",
    "\n",
    "# Convert the input strings to sets of strings\n",
    "set1 = set(set1_input.split(','))\n",
    "set2 = set(set2_input.split(','))\n",
    "\n",
    "# Calculate the difference between the two sets (elements in set1 but not in set2)\n",
    "difference = set1 - set2\n",
    "\n",
    "# Print the difference\n",
    "print(\"Elements present in the first set but not in the second set:\", difference)\n"
   ]
  },
  {
   "cell_type": "code",
   "execution_count": null,
   "metadata": {
    "id": "NgA2bVQhbZ3y"
   },
   "outputs": [],
   "source": [
    "\n",
    "def extract_tuple_range(input_tuple, start_index, end_index):\n",
    "  new_tuple = tuple(input_tuple[i] for i in range(start_index, end_index))\n",
    "  return new_tuple\n",
    "\n",
    "# Get input from the user\n",
    "input_str = input(\"Enter a tuple of integers separated by commas: \")\n",
    "start_index = int(input(\"Enter the starting index: \"))\n",
    "end_index = int(input(\"Enter the ending index: \"))\n",
    "\n",
    "# Convert the input string to a tuple of integers\n",
    "input_tuple = tuple(int(x) for x in input_str.split(\",\"))\n",
    "\n",
    "# Extract the elements within the specified range\n",
    "result_tuple = extract_tuple_range(input_tuple, start_index, end_index)\n",
    "\n",
    "# Print the result\n",
    "print(\"Resulting tuple:\", result_tuple)\n"
   ]
  },
  {
   "cell_type": "code",
   "execution_count": null,
   "metadata": {
    "id": "8I71mMjXbhdO"
   },
   "outputs": [],
   "source": [
    "\n",
    "\n",
    "# Prompt the user to enter the first set of characters\n",
    "set1_str = input(\"Enter the first set of characters: \")\n",
    "\n",
    "# Prompt the user to enter the second set of characters\n",
    "set2_str = input(\"Enter the second set of characters: \")\n",
    "\n",
    "# Create sets from the input strings\n",
    "set1 = set(set1_str)\n",
    "set2 = set(set2_str)\n",
    "\n",
    "# Calculate the union of the two sets\n",
    "union_set = set1 | set2\n",
    "\n",
    "# Print the union\n",
    "print(\"Union of the two sets:\", union_set)\n"
   ]
  },
  {
   "cell_type": "code",
   "execution_count": null,
   "metadata": {
    "id": "C3ANMKuWblTB"
   },
   "outputs": [],
   "source": [
    "\n",
    "input_str = input(\"Enter a tuple of integers separated by commas: \")\n",
    "\n",
    "# Convert the input string to a tuple of integers\n",
    "input_tuple = tuple(int(x) for x in input_str.split(\",\"))\n",
    "\n",
    "# Find the maximum and minimum values using tuple unpacking\n",
    "maximum, minimum = max(input_tuple), min(input_tuple)\n",
    "\n",
    "# Print the results\n",
    "print(\"Maximum value:\", maximum)\n",
    "print(\"Minimum value:\", minimum)\n"
   ]
  },
  {
   "cell_type": "code",
   "execution_count": null,
   "metadata": {
    "id": "fkTbggqnboyx"
   },
   "outputs": [],
   "source": [
    "\n",
    "\n",
    "# Get input for the first set\n",
    "set1_str = input(\"Enter elements for the first set, separated by spaces: \")\n",
    "set1 = set(map(int, set1_str.split()))\n",
    "\n",
    "# Get input for the second set\n",
    "set2_str = input(\"Enter elements for the second set, separated by spaces: \")\n",
    "set2 = set(map(int, set2_str.split()))\n",
    "\n",
    "# Calculate and print the union\n",
    "union_set = set1 | set2\n",
    "print(\"Union:\", union_set)\n",
    "\n",
    "# Calculate and print the intersection\n",
    "intersection_set = set1 & set2\n",
    "print(\"Intersection:\", intersection_set)\n",
    "\n",
    "# Calculate and print the difference (set1 - set2)\n",
    "difference_set = set1 - set2\n",
    "print(\"Difference (set1 - set2):\", difference_set)\n"
   ]
  },
  {
   "cell_type": "code",
   "execution_count": null,
   "metadata": {
    "id": "FoPr4bCxbt8b"
   },
   "outputs": [],
   "source": [
    "\n",
    "\n",
    "# Get input from the user for the tuple\n",
    "input_str = input(\"Enter elements for the tuple separated by commas: \")\n",
    "my_tuple = tuple(map(int, input_str.split(',')))\n",
    "\n",
    "# Get input from the user for the element to search for\n",
    "element = int(input(\"Enter the element to count: \"))\n",
    "\n",
    "# Count the occurrences of the element in the tuple\n",
    "count = 0\n",
    "for item in my_tuple:\n",
    "  if item == element:\n",
    "    count += 1\n",
    "\n",
    "# Print the count of occurrences\n",
    "print(\"The element\", element, \"appears\", count, \"times in the tuple.\")\n"
   ]
  },
  {
   "cell_type": "code",
   "execution_count": null,
   "metadata": {
    "id": "MD9Fog3Kbxu8"
   },
   "outputs": [],
   "source": [
    "\n",
    "\n",
    "# Prompt the user to enter the first set of strings\n",
    "set1_input = input(\"Enter the first set of strings separated by commas: \")\n",
    "\n",
    "# Prompt the user to enter the second set of strings\n",
    "set2_input = input(\"Enter the second set of strings separated by commas: \")\n",
    "\n",
    "# Convert the input strings to sets of strings\n",
    "set1 = set(set1_input.split(','))\n",
    "set2 = set(set2_input.split(','))\n",
    "\n",
    "# Calculate the symmetric difference of the two sets\n",
    "symmetric_difference = set1 ^ set2\n",
    "\n",
    "# Print the symmetric difference\n",
    "print(\"Symmetric difference of the two sets:\", symmetric_difference)\n"
   ]
  },
  {
   "cell_type": "code",
   "execution_count": null,
   "metadata": {
    "id": "Zd7kJq8nb2mr"
   },
   "outputs": [],
   "source": [
    "\n",
    "words = input(\"Enter a list of words separated by spaces: \").split()\n",
    "\n",
    "word_counts = {}\n",
    "for word in words:\n",
    "  if word in word_counts:\n",
    "    word_counts[word] += 1\n",
    "  else:\n",
    "    word_counts[word] = 1\n",
    "\n",
    "print(word_counts)\n"
   ]
  },
  {
   "cell_type": "code",
   "execution_count": null,
   "metadata": {
    "id": "ao6soKVzb8yB"
   },
   "outputs": [],
   "source": [
    "\n",
    "\n",
    "dict1_str = input(\"Enter the first dictionary as key:value pairs separated by commas: \")\n",
    "dict2_str = input(\"Enter the second dictionary as key:value pairs separated by commas: \")\n",
    "\n",
    "dict1 = {}\n",
    "for pair in dict1_str.split(\",\"):\n",
    "  key, value = pair.split(\":\")\n",
    "  dict1[key.strip()] = int(value.strip())\n",
    "\n",
    "dict2 = {}\n",
    "for pair in dict2_str.split(\",\"):\n",
    "  key, value = pair.split(\":\")\n",
    "  dict2[key.strip()] = int(value.strip())\n",
    "\n",
    "merged_dict = dict1.copy()\n",
    "for key, value in dict2.items():\n",
    "  if key in merged_dict:\n",
    "    merged_dict[key] += value\n",
    "  else:\n",
    "    merged_dict[key] = value\n",
    "\n",
    "print(merged_dict)\n"
   ]
  },
  {
   "cell_type": "code",
   "execution_count": null,
   "metadata": {
    "id": "7G7DkKWocBlP"
   },
   "outputs": [],
   "source": [
    "\n",
    "\n",
    "nested_dict = {'a': 1, 'b': {'c': 2, 'd': 3}, 'e': 4}\n",
    "keys = ['b', 'c']\n",
    "\n",
    "value = nested_dict\n",
    "for key in keys:\n",
    "  if isinstance(value, dict) and key in value:\n",
    "    value = value[key]\n",
    "  else:\n",
    "    value = None\n",
    "    break\n",
    "\n",
    "print(value)\n"
   ]
  },
  {
   "cell_type": "code",
   "execution_count": null,
   "metadata": {
    "id": "VAj6GnLkcH8C"
   },
   "outputs": [],
   "source": [
    "\n",
    "\n",
    "my_dict = {'apple': 3, 'banana': 1, 'cherry': 2}\n",
    "\n",
    "sorted_dict = dict(sorted(my_dict.items(), key=lambda item: item[1]))\n",
    "\n",
    "print(sorted_dict)\n"
   ]
  },
  {
   "cell_type": "code",
   "execution_count": null,
   "metadata": {
    "id": "Ex4XAi5XcLBO"
   },
   "outputs": [],
   "source": [
    "\n",
    "\n",
    "my_dict = {'a': 1, 'b': 2, 'c': 3, 'd': 2}\n",
    "\n",
    "inverted_dict = {}\n",
    "for key, value in my_dict.items():\n",
    "  if value not in inverted_dict:\n",
    "    inverted_dict[value] = [key]\n",
    "  else:\n",
    "    inverted_dict[value].append(key)\n",
    "\n",
    "print(inverted_dict)\n"
   ]
  },
  {
   "cell_type": "code",
   "execution_count": null,
   "metadata": {
    "id": "QdDSsi41eC5z"
   },
   "outputs": [],
   "source": []
  }
 ],
 "metadata": {
  "colab": {
   "authorship_tag": "ABX9TyOGf4t5dLtfq2WichqQ9qWW",
   "provenance": []
  },
  "kernelspec": {
   "display_name": "Python 3 (ipykernel)",
   "language": "python",
   "name": "python3"
  },
  "language_info": {
   "codemirror_mode": {
    "name": "ipython",
    "version": 3
   },
   "file_extension": ".py",
   "mimetype": "text/x-python",
   "name": "python",
   "nbconvert_exporter": "python",
   "pygments_lexer": "ipython3",
   "version": "3.10.8"
  }
 },
 "nbformat": 4,
 "nbformat_minor": 4
}
